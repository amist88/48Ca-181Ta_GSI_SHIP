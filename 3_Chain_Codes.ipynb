{
  "metadata": {
    "kernelspec": {
      "name": "python",
      "display_name": "Python (Pyodide)",
      "language": "python"
    },
    "language_info": {
      "codemirror_mode": {
        "name": "python",
        "version": 3
      },
      "file_extension": ".py",
      "mimetype": "text/x-python",
      "name": "python",
      "nbconvert_exporter": "python",
      "pygments_lexer": "ipython3",
      "version": "3.8"
    }
  },
  "nbformat_minor": 4,
  "nbformat": 4,
  "cells": [
    {
      "cell_type": "code",
      "source": "import csv\nimport matplotlib.pyplot as plt\n\ndef plot_csv(filename, color='blue'):\n    with open(filename, 'r') as file:\n        csv_reader = csv.reader(file)\n        \n        # Read the first row to extract plot titles\n        first_row = next(csv_reader)\n        plot_titles = [first_row[i] for i in range(0, len(first_row), 2)]\n\n        # Read the second row to extract axis labels for all plots\n        second_row = next(csv_reader)\n        axis_labels = [(f\"{first_row[i]} ({second_row[i]})\", f\"{first_row[i+1]} ({second_row[i+1]})\") for i in range(0, len(first_row), 2)]\n\n        # Read data for all plots\n        data = [[] for _ in range(len(plot_titles))]\n        for row in csv_reader:\n            for i in range(0, len(row), 2):\n                try:\n                    x_value = float(row[i])\n                    y_value = float(row[i+1])\n                    data[i//2].append((x_value, y_value))\n                except ValueError:\n                    pass\n\n    # Create subplots for all plots\n    fig, axs = plt.subplots(3, 2, figsize=(12, 12))\n    axs = axs.flatten()\n\n    for i, (ax, (title, label), plot_data) in enumerate(zip(axs, axis_labels, data)):\n        x_values, y_values = zip(*plot_data)\n        ax.step(x_values, y_values, where='mid', label=label, color=color)\n        ax.set_xlabel(title)\n        ax.set_ylabel(label)\n        ax.set_title(title.split('(')[0])  # Extracting only the title part\n        \n        # Apply axis limits based on the order of the plots and the dataset filename\n        if i in [0, 2, 4]:  # First, third, and fifth plots\n            ax.set_xlim(5000, 10000)  # Limit x-axis to 5000 to 10000\n        elif i in [1]:  # Second plot\n            ax.set_xlim(0, 0.2)  # Limit x-axis to 0 to 0.2\n        elif i == 3:  # Fourth plot\n            if '222Pa_218Ac_214Fr.csv' in filename:\n                ax.set_xlim(0, 0.00005)  # Limit x-axis for the last plot of the first dataset\n            elif '223Pa_219Ac_215Fr.csv' in filename:\n                ax.set_xlim(0, 0.00005)  # Limit x-axis for the last plot of the second dataset\n        elif i == 5:  # Sixth plot\n            if '222Pa_218Ac_214Fr.csv' in filename:\n                ax.set_xlim(0, 0.2)  # Limit x-axis for the last plot of the first dataset\n            elif '223Pa_219Ac_215Fr.csv' in filename:\n                ax.set_xlim(0, 0.000005)  # Limit x-axis for the last plot of the second dataset\n\n        # Limit y-axis to start from 0 or 0.1\n        if i in [1, 3, 5]:\n            ax.set_ylim(0.1, None)\n            ax.set_yscale('log')\n        else:\n            ax.set_ylim(0, None)\n\n    plt.tight_layout()  # Adjust layout to prevent overlapping\n    plt.show()\n\n# Define the datasets along with their respective colors\ndatasets = [\n    ('222Pa_218Ac_214Fr.csv', 'blue'),\n    ('223Pa_219Ac_215Fr.csv', 'red')\n]\n\n# Plot each dataset\nfor dataset, color in datasets:\n    plot_csv(dataset, color=color)\n",
      "metadata": {
        "trusted": true
      },
      "outputs": [],
      "execution_count": null
    }
  ]
}